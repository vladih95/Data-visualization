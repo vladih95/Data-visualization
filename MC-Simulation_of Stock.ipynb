{
 "cells": [
  {
   "cell_type": "markdown",
   "metadata": {
    "id": "9A_yBPaseiUd"
   },
   "source": [
    "# Import working libraries"
   ]
  },
  {
   "cell_type": "code",
   "execution_count": 1,
   "metadata": {
    "id": "YP1zF3nHef73"
   },
   "outputs": [],
   "source": [
    "import pandas as pd"
   ]
  },
  {
   "cell_type": "code",
   "execution_count": 2,
   "metadata": {
    "id": "td-73uK4ev9C"
   },
   "outputs": [],
   "source": [
    "import numpy as np"
   ]
  },
  {
   "cell_type": "code",
   "execution_count": 3,
   "metadata": {
    "id": "CeBh8PwleyOb"
   },
   "outputs": [],
   "source": [
    "import pandas_datareader as pdr"
   ]
  },
  {
   "cell_type": "code",
   "execution_count": 4,
   "metadata": {
    "id": "y_MlgNCwf0VI"
   },
   "outputs": [],
   "source": [
    "import datetime as dt"
   ]
  },
  {
   "cell_type": "code",
   "execution_count": 5,
   "metadata": {
    "id": "5LgGyioC1KDc"
   },
   "outputs": [],
   "source": [
    "import matplotlib.pyplot as plt"
   ]
  },
  {
   "cell_type": "code",
   "execution_count": 6,
   "metadata": {},
   "outputs": [],
   "source": [
    "import bs4 as bs\n",
    "import pickle\n",
    "import requests"
   ]
  },
  {
   "cell_type": "code",
   "execution_count": 7,
   "metadata": {},
   "outputs": [],
   "source": [
    "import unicodedata as un "
   ]
  },
  {
   "cell_type": "markdown",
   "metadata": {},
   "source": [
    "# Conduct MC-Simulation of Visas stock price based on 2020 data"
   ]
  },
  {
   "cell_type": "markdown",
   "metadata": {},
   "source": [
    "## Scrap stock data from Yahoo-Finance API"
   ]
  },
  {
   "cell_type": "code",
   "execution_count": 8,
   "metadata": {},
   "outputs": [
    {
     "data": {
      "text/html": [
       "<div>\n",
       "<style scoped>\n",
       "    .dataframe tbody tr th:only-of-type {\n",
       "        vertical-align: middle;\n",
       "    }\n",
       "\n",
       "    .dataframe tbody tr th {\n",
       "        vertical-align: top;\n",
       "    }\n",
       "\n",
       "    .dataframe thead th {\n",
       "        text-align: right;\n",
       "    }\n",
       "</style>\n",
       "<table border=\"1\" class=\"dataframe\">\n",
       "  <thead>\n",
       "    <tr style=\"text-align: right;\">\n",
       "      <th></th>\n",
       "      <th>High</th>\n",
       "      <th>Low</th>\n",
       "      <th>Open</th>\n",
       "      <th>Close</th>\n",
       "      <th>Volume</th>\n",
       "      <th>Adj Close</th>\n",
       "    </tr>\n",
       "    <tr>\n",
       "      <th>Date</th>\n",
       "      <th></th>\n",
       "      <th></th>\n",
       "      <th></th>\n",
       "      <th></th>\n",
       "      <th></th>\n",
       "      <th></th>\n",
       "    </tr>\n",
       "  </thead>\n",
       "  <tbody>\n",
       "    <tr>\n",
       "      <th>2015-01-02</th>\n",
       "      <td>66.687500</td>\n",
       "      <td>65.622498</td>\n",
       "      <td>65.845001</td>\n",
       "      <td>66.254997</td>\n",
       "      <td>8389600.0</td>\n",
       "      <td>63.475796</td>\n",
       "    </tr>\n",
       "    <tr>\n",
       "      <th>2015-01-05</th>\n",
       "      <td>65.875000</td>\n",
       "      <td>64.717499</td>\n",
       "      <td>65.872498</td>\n",
       "      <td>64.792503</td>\n",
       "      <td>12751200.0</td>\n",
       "      <td>62.074650</td>\n",
       "    </tr>\n",
       "    <tr>\n",
       "      <th>2015-01-06</th>\n",
       "      <td>65.195000</td>\n",
       "      <td>63.715000</td>\n",
       "      <td>64.947502</td>\n",
       "      <td>64.375000</td>\n",
       "      <td>11070000.0</td>\n",
       "      <td>61.674656</td>\n",
       "    </tr>\n",
       "    <tr>\n",
       "      <th>2015-01-07</th>\n",
       "      <td>65.285004</td>\n",
       "      <td>64.362503</td>\n",
       "      <td>64.610001</td>\n",
       "      <td>65.237503</td>\n",
       "      <td>9346800.0</td>\n",
       "      <td>62.500984</td>\n",
       "    </tr>\n",
       "    <tr>\n",
       "      <th>2015-01-08</th>\n",
       "      <td>66.279999</td>\n",
       "      <td>65.657501</td>\n",
       "      <td>65.800003</td>\n",
       "      <td>66.112503</td>\n",
       "      <td>10443200.0</td>\n",
       "      <td>63.339291</td>\n",
       "    </tr>\n",
       "    <tr>\n",
       "      <th>...</th>\n",
       "      <td>...</td>\n",
       "      <td>...</td>\n",
       "      <td>...</td>\n",
       "      <td>...</td>\n",
       "      <td>...</td>\n",
       "      <td>...</td>\n",
       "    </tr>\n",
       "    <tr>\n",
       "      <th>2020-12-24</th>\n",
       "      <td>208.820007</td>\n",
       "      <td>206.600006</td>\n",
       "      <td>206.639999</td>\n",
       "      <td>208.699997</td>\n",
       "      <td>3367900.0</td>\n",
       "      <td>208.699997</td>\n",
       "    </tr>\n",
       "    <tr>\n",
       "      <th>2020-12-28</th>\n",
       "      <td>213.460007</td>\n",
       "      <td>208.949997</td>\n",
       "      <td>209.850006</td>\n",
       "      <td>212.630005</td>\n",
       "      <td>5816200.0</td>\n",
       "      <td>212.630005</td>\n",
       "    </tr>\n",
       "    <tr>\n",
       "      <th>2020-12-29</th>\n",
       "      <td>215.240005</td>\n",
       "      <td>213.539993</td>\n",
       "      <td>214.610001</td>\n",
       "      <td>214.369995</td>\n",
       "      <td>6093400.0</td>\n",
       "      <td>214.369995</td>\n",
       "    </tr>\n",
       "    <tr>\n",
       "      <th>2020-12-30</th>\n",
       "      <td>220.389999</td>\n",
       "      <td>215.649994</td>\n",
       "      <td>216.000000</td>\n",
       "      <td>218.360001</td>\n",
       "      <td>8875100.0</td>\n",
       "      <td>218.360001</td>\n",
       "    </tr>\n",
       "    <tr>\n",
       "      <th>2020-12-31</th>\n",
       "      <td>219.820007</td>\n",
       "      <td>216.199997</td>\n",
       "      <td>218.399994</td>\n",
       "      <td>218.729996</td>\n",
       "      <td>5921300.0</td>\n",
       "      <td>218.729996</td>\n",
       "    </tr>\n",
       "  </tbody>\n",
       "</table>\n",
       "<p>1511 rows × 6 columns</p>\n",
       "</div>"
      ],
      "text/plain": [
       "                  High         Low        Open       Close      Volume  \\\n",
       "Date                                                                     \n",
       "2015-01-02   66.687500   65.622498   65.845001   66.254997   8389600.0   \n",
       "2015-01-05   65.875000   64.717499   65.872498   64.792503  12751200.0   \n",
       "2015-01-06   65.195000   63.715000   64.947502   64.375000  11070000.0   \n",
       "2015-01-07   65.285004   64.362503   64.610001   65.237503   9346800.0   \n",
       "2015-01-08   66.279999   65.657501   65.800003   66.112503  10443200.0   \n",
       "...                ...         ...         ...         ...         ...   \n",
       "2020-12-24  208.820007  206.600006  206.639999  208.699997   3367900.0   \n",
       "2020-12-28  213.460007  208.949997  209.850006  212.630005   5816200.0   \n",
       "2020-12-29  215.240005  213.539993  214.610001  214.369995   6093400.0   \n",
       "2020-12-30  220.389999  215.649994  216.000000  218.360001   8875100.0   \n",
       "2020-12-31  219.820007  216.199997  218.399994  218.729996   5921300.0   \n",
       "\n",
       "             Adj Close  \n",
       "Date                    \n",
       "2015-01-02   63.475796  \n",
       "2015-01-05   62.074650  \n",
       "2015-01-06   61.674656  \n",
       "2015-01-07   62.500984  \n",
       "2015-01-08   63.339291  \n",
       "...                ...  \n",
       "2020-12-24  208.699997  \n",
       "2020-12-28  212.630005  \n",
       "2020-12-29  214.369995  \n",
       "2020-12-30  218.360001  \n",
       "2020-12-31  218.729996  \n",
       "\n",
       "[1511 rows x 6 columns]"
      ]
     },
     "execution_count": 8,
     "metadata": {},
     "output_type": "execute_result"
    }
   ],
   "source": [
    "startdate=dt.datetime(2015,1,1)\n",
    "enddate=dt.datetime(2020,12,31)\n",
    "\n",
    "tickers=\"V\"\n",
    "data_stock=pdr.get_data_yahoo(tickers, start=startdate, end=enddate)\n",
    "data_stock"
   ]
  },
  {
   "cell_type": "markdown",
   "metadata": {},
   "source": [
    "## Analyze the Visa stock"
   ]
  },
  {
   "cell_type": "code",
   "execution_count": 9,
   "metadata": {},
   "outputs": [
    {
     "data": {
      "text/html": [
       "<div>\n",
       "<style scoped>\n",
       "    .dataframe tbody tr th:only-of-type {\n",
       "        vertical-align: middle;\n",
       "    }\n",
       "\n",
       "    .dataframe tbody tr th {\n",
       "        vertical-align: top;\n",
       "    }\n",
       "\n",
       "    .dataframe thead th {\n",
       "        text-align: right;\n",
       "    }\n",
       "</style>\n",
       "<table border=\"1\" class=\"dataframe\">\n",
       "  <thead>\n",
       "    <tr style=\"text-align: right;\">\n",
       "      <th></th>\n",
       "      <th>Return</th>\n",
       "    </tr>\n",
       "    <tr>\n",
       "      <th>Date</th>\n",
       "      <th></th>\n",
       "    </tr>\n",
       "  </thead>\n",
       "  <tbody>\n",
       "    <tr>\n",
       "      <th>2015-01-05</th>\n",
       "      <td>-0.022074</td>\n",
       "    </tr>\n",
       "    <tr>\n",
       "      <th>2015-01-06</th>\n",
       "      <td>-0.006444</td>\n",
       "    </tr>\n",
       "    <tr>\n",
       "      <th>2015-01-07</th>\n",
       "      <td>0.013398</td>\n",
       "    </tr>\n",
       "    <tr>\n",
       "      <th>2015-01-08</th>\n",
       "      <td>0.013413</td>\n",
       "    </tr>\n",
       "    <tr>\n",
       "      <th>2015-01-09</th>\n",
       "      <td>-0.014823</td>\n",
       "    </tr>\n",
       "    <tr>\n",
       "      <th>...</th>\n",
       "      <td>...</td>\n",
       "    </tr>\n",
       "    <tr>\n",
       "      <th>2020-12-24</th>\n",
       "      <td>0.016561</td>\n",
       "    </tr>\n",
       "    <tr>\n",
       "      <th>2020-12-28</th>\n",
       "      <td>0.018831</td>\n",
       "    </tr>\n",
       "    <tr>\n",
       "      <th>2020-12-29</th>\n",
       "      <td>0.008183</td>\n",
       "    </tr>\n",
       "    <tr>\n",
       "      <th>2020-12-30</th>\n",
       "      <td>0.018613</td>\n",
       "    </tr>\n",
       "    <tr>\n",
       "      <th>2020-12-31</th>\n",
       "      <td>0.001694</td>\n",
       "    </tr>\n",
       "  </tbody>\n",
       "</table>\n",
       "<p>1510 rows × 1 columns</p>\n",
       "</div>"
      ],
      "text/plain": [
       "              Return\n",
       "Date                \n",
       "2015-01-05 -0.022074\n",
       "2015-01-06 -0.006444\n",
       "2015-01-07  0.013398\n",
       "2015-01-08  0.013413\n",
       "2015-01-09 -0.014823\n",
       "...              ...\n",
       "2020-12-24  0.016561\n",
       "2020-12-28  0.018831\n",
       "2020-12-29  0.008183\n",
       "2020-12-30  0.018613\n",
       "2020-12-31  0.001694\n",
       "\n",
       "[1510 rows x 1 columns]"
      ]
     },
     "execution_count": 9,
     "metadata": {},
     "output_type": "execute_result"
    }
   ],
   "source": [
    "# calculate returns\n",
    "stock=pd.DataFrame(data=data_stock[\"Close\"].pct_change())\n",
    "stock[\"Return\"]=stock[\"Close\"]\n",
    "del stock[\"Close\"]\n",
    "stock=stock.dropna()\n",
    "stock"
   ]
  },
  {
   "cell_type": "markdown",
   "metadata": {},
   "source": [
    "## Create a MC-Simulation function for data that is normally distributed"
   ]
  },
  {
   "cell_type": "code",
   "execution_count": 10,
   "metadata": {},
   "outputs": [],
   "source": [
    "# time horizon\n",
    "days=365\n",
    "date=1/days\n",
    "\n",
    "#drift\n",
    "mu=stock.mean()\n",
    "\n",
    "#shocks\n",
    "sigma=stock.std()\n",
    "\n",
    "def mcsimulation(start_price,days,mu,sigma):\n",
    "    price=np.zeros(days)\n",
    "    price[0]=start_price\n",
    "    shock=np.zeros(days)\n",
    "    drift=np.zeros(days)\n",
    "    \n",
    "    for x in range(1, days):\n",
    "        shock[x]=np.random.normal(loc=mu,scale=sigma)\n",
    "        drift[x]=mu*date\n",
    "        price[x]=price[x-1]+(price[x-1]*(drift[x]+shock[x]))\n",
    "    return (price)"
   ]
  },
  {
   "cell_type": "markdown",
   "metadata": {},
   "source": [
    "## Apply MC-Simulation function to generated data and simulate"
   ]
  },
  {
   "cell_type": "code",
   "execution_count": 11,
   "metadata": {},
   "outputs": [
    {
     "data": {
      "text/html": [
       "<div>\n",
       "<style scoped>\n",
       "    .dataframe tbody tr th:only-of-type {\n",
       "        vertical-align: middle;\n",
       "    }\n",
       "\n",
       "    .dataframe tbody tr th {\n",
       "        vertical-align: top;\n",
       "    }\n",
       "\n",
       "    .dataframe thead th {\n",
       "        text-align: right;\n",
       "    }\n",
       "</style>\n",
       "<table border=\"1\" class=\"dataframe\">\n",
       "  <thead>\n",
       "    <tr style=\"text-align: right;\">\n",
       "      <th></th>\n",
       "      <th>1</th>\n",
       "      <th>2</th>\n",
       "      <th>3</th>\n",
       "      <th>4</th>\n",
       "      <th>5</th>\n",
       "      <th>6</th>\n",
       "      <th>7</th>\n",
       "      <th>8</th>\n",
       "      <th>9</th>\n",
       "      <th>10</th>\n",
       "    </tr>\n",
       "  </thead>\n",
       "  <tbody>\n",
       "    <tr>\n",
       "      <th>0</th>\n",
       "      <td>218.729996</td>\n",
       "      <td>218.729996</td>\n",
       "      <td>218.729996</td>\n",
       "      <td>218.729996</td>\n",
       "      <td>218.729996</td>\n",
       "      <td>218.729996</td>\n",
       "      <td>218.729996</td>\n",
       "      <td>218.729996</td>\n",
       "      <td>218.729996</td>\n",
       "      <td>218.729996</td>\n",
       "    </tr>\n",
       "    <tr>\n",
       "      <th>1</th>\n",
       "      <td>214.305605</td>\n",
       "      <td>216.821693</td>\n",
       "      <td>220.618170</td>\n",
       "      <td>210.819429</td>\n",
       "      <td>214.068885</td>\n",
       "      <td>222.010172</td>\n",
       "      <td>226.248606</td>\n",
       "      <td>219.760675</td>\n",
       "      <td>218.284021</td>\n",
       "      <td>220.576720</td>\n",
       "    </tr>\n",
       "    <tr>\n",
       "      <th>2</th>\n",
       "      <td>215.598300</td>\n",
       "      <td>220.111314</td>\n",
       "      <td>225.561377</td>\n",
       "      <td>213.866948</td>\n",
       "      <td>216.487585</td>\n",
       "      <td>224.222382</td>\n",
       "      <td>229.549231</td>\n",
       "      <td>226.490239</td>\n",
       "      <td>218.521020</td>\n",
       "      <td>224.594730</td>\n",
       "    </tr>\n",
       "    <tr>\n",
       "      <th>3</th>\n",
       "      <td>215.916227</td>\n",
       "      <td>222.554070</td>\n",
       "      <td>221.349530</td>\n",
       "      <td>209.738994</td>\n",
       "      <td>213.189503</td>\n",
       "      <td>220.736218</td>\n",
       "      <td>230.274119</td>\n",
       "      <td>221.704115</td>\n",
       "      <td>219.442639</td>\n",
       "      <td>221.960548</td>\n",
       "    </tr>\n",
       "    <tr>\n",
       "      <th>4</th>\n",
       "      <td>210.686486</td>\n",
       "      <td>230.638516</td>\n",
       "      <td>217.589499</td>\n",
       "      <td>209.442982</td>\n",
       "      <td>211.903633</td>\n",
       "      <td>220.724932</td>\n",
       "      <td>232.720242</td>\n",
       "      <td>219.072200</td>\n",
       "      <td>220.397798</td>\n",
       "      <td>228.319205</td>\n",
       "    </tr>\n",
       "    <tr>\n",
       "      <th>...</th>\n",
       "      <td>...</td>\n",
       "      <td>...</td>\n",
       "      <td>...</td>\n",
       "      <td>...</td>\n",
       "      <td>...</td>\n",
       "      <td>...</td>\n",
       "      <td>...</td>\n",
       "      <td>...</td>\n",
       "      <td>...</td>\n",
       "      <td>...</td>\n",
       "    </tr>\n",
       "    <tr>\n",
       "      <th>360</th>\n",
       "      <td>230.326906</td>\n",
       "      <td>463.113010</td>\n",
       "      <td>333.034321</td>\n",
       "      <td>211.306757</td>\n",
       "      <td>364.694362</td>\n",
       "      <td>382.471600</td>\n",
       "      <td>227.785207</td>\n",
       "      <td>428.915787</td>\n",
       "      <td>234.756645</td>\n",
       "      <td>230.567153</td>\n",
       "    </tr>\n",
       "    <tr>\n",
       "      <th>361</th>\n",
       "      <td>228.951926</td>\n",
       "      <td>455.176471</td>\n",
       "      <td>336.569584</td>\n",
       "      <td>211.047736</td>\n",
       "      <td>363.976583</td>\n",
       "      <td>391.881283</td>\n",
       "      <td>229.614016</td>\n",
       "      <td>425.788798</td>\n",
       "      <td>230.812220</td>\n",
       "      <td>235.378297</td>\n",
       "    </tr>\n",
       "    <tr>\n",
       "      <th>362</th>\n",
       "      <td>226.732918</td>\n",
       "      <td>449.046748</td>\n",
       "      <td>339.255923</td>\n",
       "      <td>211.487908</td>\n",
       "      <td>362.227637</td>\n",
       "      <td>387.439968</td>\n",
       "      <td>232.362356</td>\n",
       "      <td>435.672408</td>\n",
       "      <td>228.701505</td>\n",
       "      <td>235.274123</td>\n",
       "    </tr>\n",
       "    <tr>\n",
       "      <th>363</th>\n",
       "      <td>239.716032</td>\n",
       "      <td>450.034128</td>\n",
       "      <td>345.954061</td>\n",
       "      <td>214.989110</td>\n",
       "      <td>362.037139</td>\n",
       "      <td>391.141054</td>\n",
       "      <td>233.444869</td>\n",
       "      <td>443.465741</td>\n",
       "      <td>223.500541</td>\n",
       "      <td>231.919030</td>\n",
       "    </tr>\n",
       "    <tr>\n",
       "      <th>364</th>\n",
       "      <td>243.197555</td>\n",
       "      <td>460.043518</td>\n",
       "      <td>348.637554</td>\n",
       "      <td>213.940065</td>\n",
       "      <td>362.825249</td>\n",
       "      <td>392.050916</td>\n",
       "      <td>231.925460</td>\n",
       "      <td>444.529783</td>\n",
       "      <td>220.875071</td>\n",
       "      <td>226.947127</td>\n",
       "    </tr>\n",
       "  </tbody>\n",
       "</table>\n",
       "<p>365 rows × 10 columns</p>\n",
       "</div>"
      ],
      "text/plain": [
       "              1           2           3           4           5           6  \\\n",
       "0    218.729996  218.729996  218.729996  218.729996  218.729996  218.729996   \n",
       "1    214.305605  216.821693  220.618170  210.819429  214.068885  222.010172   \n",
       "2    215.598300  220.111314  225.561377  213.866948  216.487585  224.222382   \n",
       "3    215.916227  222.554070  221.349530  209.738994  213.189503  220.736218   \n",
       "4    210.686486  230.638516  217.589499  209.442982  211.903633  220.724932   \n",
       "..          ...         ...         ...         ...         ...         ...   \n",
       "360  230.326906  463.113010  333.034321  211.306757  364.694362  382.471600   \n",
       "361  228.951926  455.176471  336.569584  211.047736  363.976583  391.881283   \n",
       "362  226.732918  449.046748  339.255923  211.487908  362.227637  387.439968   \n",
       "363  239.716032  450.034128  345.954061  214.989110  362.037139  391.141054   \n",
       "364  243.197555  460.043518  348.637554  213.940065  362.825249  392.050916   \n",
       "\n",
       "              7           8           9          10  \n",
       "0    218.729996  218.729996  218.729996  218.729996  \n",
       "1    226.248606  219.760675  218.284021  220.576720  \n",
       "2    229.549231  226.490239  218.521020  224.594730  \n",
       "3    230.274119  221.704115  219.442639  221.960548  \n",
       "4    232.720242  219.072200  220.397798  228.319205  \n",
       "..          ...         ...         ...         ...  \n",
       "360  227.785207  428.915787  234.756645  230.567153  \n",
       "361  229.614016  425.788798  230.812220  235.378297  \n",
       "362  232.362356  435.672408  228.701505  235.274123  \n",
       "363  233.444869  443.465741  223.500541  231.919030  \n",
       "364  231.925460  444.529783  220.875071  226.947127  \n",
       "\n",
       "[365 rows x 10 columns]"
      ]
     },
     "execution_count": 11,
     "metadata": {},
     "output_type": "execute_result"
    }
   ],
   "source": [
    "start_price= data_stock[\"Close\"].iloc[-1]\n",
    "# for simplicity reasons only 10 runs are being conducted\n",
    "runs=10\n",
    "sim=np.zeros([days,runs])\n",
    "for i in range(runs):\n",
    "    sim[:,i]=mcsimulation(start_price, days, mu, sigma)\n",
    "sim=pd.DataFrame(sim)\n",
    "sim.columns=[\"1\",\"2\",\"3\", \"4\",\"5\",\"6\", \"7\",\"8\",\"9\",\"10\"]\n",
    "sim"
   ]
  },
  {
   "cell_type": "markdown",
   "metadata": {},
   "source": [
    "## Look at desired results"
   ]
  },
  {
   "cell_type": "code",
   "execution_count": 12,
   "metadata": {},
   "outputs": [
    {
     "data": {
      "text/plain": [
       "Text(0.5, 1.0, 'MC Simulation')"
      ]
     },
     "execution_count": 12,
     "metadata": {},
     "output_type": "execute_result"
    },
    {
     "data": {
      "image/png": "[encoded data removed]",
      "text/plain": [
       "<Figure size 432x288 with 1 Axes>"
      ]
     },
     "metadata": {
      "needs_background": "light"
     },
     "output_type": "display_data"
    }
   ],
   "source": [
    "plt.plot(sim)   \n",
    "plt.xlabel(\"Days\")\n",
    "plt.ylabel(\"Price\")\n",
    "plt.title(\"MC Simulation\")"
   ]
  },
  {
   "cell_type": "markdown",
   "metadata": {},
   "source": [
    "## Create a JS file that can be used in HTML code"
   ]
  },
  {
   "cell_type": "markdown",
   "metadata": {},
   "source": [
    "### Create the data variable"
   ]
  },
  {
   "cell_type": "code",
   "execution_count": 13,
   "metadata": {},
   "outputs": [],
   "source": [
    "color=[\"rgb(28,146,46)\",\"rgb(117,39,219)\",\"rgb(247,27,27)\",\n",
    "       \"rgb(255,51,255)\",\"rgb(204,255,51)\",\"rgb(51,249,255)\",\n",
    "       \"rgb(247,27,27)\",\"rgb(154,242,163)\",\"rgb(218,187,31)\",\n",
    "       \"rgb(139,171,213)\"]"
   ]
  },
  {
   "cell_type": "code",
   "execution_count": 14,
   "metadata": {},
   "outputs": [],
   "source": [
    "d={}\n",
    "for i in range(len(sim.columns)):\n",
    "  date=\"\"\n",
    "  price=\"\"\n",
    "  for j in range(len(sim.index)):\n",
    "    date=date+\"'\"+str(sim.index[j])+\"',\"\n",
    "    price=price+\"'\"+str(round(sim.values[j,i],2))+\"',\"\n",
    "  d[\"script\"+str(sim.columns[i])]= \"\"\"var sim\"\"\"+str(sim.columns[i])+\"\"\" = {\n",
    "            x: [\"\"\"+ date[:-1] + \"\"\"],\n",
    "            y: [\"\"\"+ price[:-1] +\"\"\"],\n",
    "            mode: 'lines',\n",
    "            name: 'Simulation \"\"\"+ str(sim.columns[i])+\"\"\"',\n",
    "            line: {\n",
    "                color: '\"\"\"+color[i]+\"\"\"',\n",
    "                width: 2,\n",
    "                shape: 'spline',\n",
    "                dot: false\n",
    "            },           \n",
    "\n",
    "            };\"\"\""
   ]
  },
  {
   "cell_type": "markdown",
   "metadata": {},
   "source": [
    "### Create a threshold line to visualize whether simulated stock price is above or beneath the stock price of the last trading day"
   ]
  },
  {
   "cell_type": "code",
   "execution_count": 15,
   "metadata": {},
   "outputs": [],
   "source": [
    "price2= (\"'209.01',\")*364+\"'209.01'\""
   ]
  },
  {
   "cell_type": "code",
   "execution_count": 16,
   "metadata": {},
   "outputs": [],
   "source": [
    "d[\"script11\"]= \"\"\"var sim11 = {\n",
    "            x: [\"\"\"+ date[:-1] + \"\"\"],\n",
    "            y: [\"\"\"+ price2 +\"\"\"],\n",
    "            mode: 'lines',\n",
    "            name: 'Initial price threshold',\n",
    "            line: {\n",
    "                color: 'rgb(0,0,0)',\n",
    "                width: 2,\n",
    "                shape: 'spline'\n",
    "            },           \n",
    "\n",
    "            };\"\"\""
   ]
  },
  {
   "cell_type": "markdown",
   "metadata": {},
   "source": [
    "### Create the layout variable and the rest of the JS script"
   ]
  },
  {
   "cell_type": "code",
   "execution_count": 17,
   "metadata": {},
   "outputs": [],
   "source": [
    "final=d[\"script1\"]+d[\"script2\"]+d[\"script3\"]+d[\"script4\"]+d[\"script5\"]+d[\"script6\"]+d[\"script7\"]+d[\"script8\"]+d[\"script9\"]+d[\"script10\"]+d[\"script11\"]+\"\"\"var data = [sim1, sim2, sim3, sim4, sim5, sim6, sim7, sim8, sim9, sim10, sim11];\n",
    "\n",
    "var layout ={\n",
    "            title: 'Monte Carlo Simulation',\n",
    "            xaxis: {\n",
    "            title: 'Days',\n",
    "            autorange: true,\n",
    "            tickangle: 45,\n",
    "            tickfont: {\n",
    "              family: 'Old Standard TT, serif',\n",
    "              size: 14,\n",
    "              },\n",
    "            exponentformat: 'e',\n",
    "            showexponent: 'all'\n",
    "            },\n",
    "            yaxis: {\n",
    "            title: 'Predicted price',\n",
    "            autorange: true,\n",
    "            autotick: true,\n",
    "            showticklabels: true,\n",
    "            tickangle: 'auto',\n",
    "            tickfont: {\n",
    "              family: 'Old Standard TT, serif',\n",
    "              size: 14,\n",
    "              },\n",
    "            exponentformat: 'e',\n",
    "            showexponent: 'all'\n",
    "            }\n",
    "            };\n",
    "\n",
    "Plotly.newPlot('myViz4', data, layout);\"\"\""
   ]
  },
  {
   "cell_type": "markdown",
   "metadata": {},
   "source": [
    "### write JS file"
   ]
  },
  {
   "cell_type": "code",
   "execution_count": 18,
   "metadata": {},
   "outputs": [],
   "source": [
    "file=open(\"montec.js\", \"w\")\n",
    "file.write(final)\n",
    "file.close()"
   ]
  }
 ],
 "metadata": {
  "colab": {
   "collapsed_sections": [],
   "name": "Data Viz.ipynb",
   "provenance": [],
   "toc_visible": true
  },
  "kernelspec": {
   "display_name": "Python 3",
   "language": "python",
   "name": "python3"
  },
  "language_info": {
   "codemirror_mode": {
    "name": "ipython",
    "version": 3
   },
   "file_extension": ".py",
   "mimetype": "text/x-python",
   "name": "python",
   "nbconvert_exporter": "python",
   "pygments_lexer": "ipython3",
   "version": "3.8.3"
  }
 },
 "nbformat": 4,
 "nbformat_minor": 1
}
